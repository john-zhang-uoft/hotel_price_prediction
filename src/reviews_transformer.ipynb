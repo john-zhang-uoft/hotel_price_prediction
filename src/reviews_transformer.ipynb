{
 "cells": [
  {
   "cell_type": "code",
   "execution_count": 16,
   "outputs": [
    {
     "data": {
      "text/plain": "                                            userReviews     price\n0     A hidden gem in the Emerald City of Seattle ho...  6.212606\n1     I liked it. Reasonable price for the location ...  5.826000\n2     Exceptional The woman working at the front gav...  6.084499\n3     definitely I will come back staff are great pe...  6.061457\n4     Super Seattle hotel The hotel was funky, well ...  5.937536\n...                                                 ...       ...\n3054  it was a percect location for my trip. it was ...  5.062595\n3055  good the housekeeping service do your room and...  5.446737\n3056  Very Good great location, clean and friendly s...  5.187386\n3057  Exceptional Really close to the Universal park...  5.327876\n3058  Either for Parks visit or Ciry visit - great h...  4.997212\n\n[3059 rows x 2 columns]",
      "text/html": "<div>\n<style scoped>\n    .dataframe tbody tr th:only-of-type {\n        vertical-align: middle;\n    }\n\n    .dataframe tbody tr th {\n        vertical-align: top;\n    }\n\n    .dataframe thead th {\n        text-align: right;\n    }\n</style>\n<table border=\"1\" class=\"dataframe\">\n  <thead>\n    <tr style=\"text-align: right;\">\n      <th></th>\n      <th>userReviews</th>\n      <th>price</th>\n    </tr>\n  </thead>\n  <tbody>\n    <tr>\n      <th>0</th>\n      <td>A hidden gem in the Emerald City of Seattle ho...</td>\n      <td>6.212606</td>\n    </tr>\n    <tr>\n      <th>1</th>\n      <td>I liked it. Reasonable price for the location ...</td>\n      <td>5.826000</td>\n    </tr>\n    <tr>\n      <th>2</th>\n      <td>Exceptional The woman working at the front gav...</td>\n      <td>6.084499</td>\n    </tr>\n    <tr>\n      <th>3</th>\n      <td>definitely I will come back staff are great pe...</td>\n      <td>6.061457</td>\n    </tr>\n    <tr>\n      <th>4</th>\n      <td>Super Seattle hotel The hotel was funky, well ...</td>\n      <td>5.937536</td>\n    </tr>\n    <tr>\n      <th>...</th>\n      <td>...</td>\n      <td>...</td>\n    </tr>\n    <tr>\n      <th>3054</th>\n      <td>it was a percect location for my trip. it was ...</td>\n      <td>5.062595</td>\n    </tr>\n    <tr>\n      <th>3055</th>\n      <td>good the housekeeping service do your room and...</td>\n      <td>5.446737</td>\n    </tr>\n    <tr>\n      <th>3056</th>\n      <td>Very Good great location, clean and friendly s...</td>\n      <td>5.187386</td>\n    </tr>\n    <tr>\n      <th>3057</th>\n      <td>Exceptional Really close to the Universal park...</td>\n      <td>5.327876</td>\n    </tr>\n    <tr>\n      <th>3058</th>\n      <td>Either for Parks visit or Ciry visit - great h...</td>\n      <td>4.997212</td>\n    </tr>\n  </tbody>\n</table>\n<p>3059 rows × 2 columns</p>\n</div>"
     },
     "execution_count": 16,
     "metadata": {},
     "output_type": "execute_result"
    }
   ],
   "source": [
    "import pandas as pd\n",
    "import json\n",
    "\n",
    "# this crates a very simple dataset where a description maps to a price\n",
    "df = pd.read_csv(\"data.csv\")\n",
    "df = df[[\"userReviews\", \"price\"]]\n",
    "\n",
    "# df\n",
    "df"
   ],
   "metadata": {
    "collapsed": false,
    "pycharm": {
     "name": "#%%\n"
    }
   }
  },
  {
   "cell_type": "code",
   "execution_count": null,
   "outputs": [],
   "source": [],
   "metadata": {
    "collapsed": false,
    "pycharm": {
     "name": "#%%\n"
    }
   }
  }
 ],
 "metadata": {
  "kernelspec": {
   "display_name": "Python 3",
   "language": "python",
   "name": "python3"
  },
  "language_info": {
   "codemirror_mode": {
    "name": "ipython",
    "version": 2
   },
   "file_extension": ".py",
   "mimetype": "text/x-python",
   "name": "python",
   "nbconvert_exporter": "python",
   "pygments_lexer": "ipython2",
   "version": "2.7.6"
  }
 },
 "nbformat": 4,
 "nbformat_minor": 0
}