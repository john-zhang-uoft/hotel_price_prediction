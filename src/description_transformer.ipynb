{
 "cells": [
  {
   "cell_type": "code",
   "execution_count": 1,
   "outputs": [
    {
     "data": {
      "text/plain": "                                            description     price\n0     The State Hotel features a fitness center, ter...  6.212606\n1     Hotel Theodore is a nonsmoking hotel located i...  5.826000\n2     Located in Central Seattle, Kimpton Hotel Mona...  6.084499\n3     Less than 10 minutes’ drive from the Space Nee...  6.061457\n4     Attractively set in Seattle, citizenM Seattle ...  5.937536\n...                                                 ...       ...\n3054  Located in Apopka, Florida, this hotel offers ...  5.062595\n3055  Featuring free WiFi, Hyatt Place Orlando Lake ...  5.446737\n3056  Only 1 mi from Universal Studios Florida™, thi...  5.187386\n3057  Experience all of the comforts of home, includ...  5.327876\n3058  Centrally located close to Orlando's most popu...  4.997212\n\n[3059 rows x 2 columns]",
      "text/html": "<div>\n<style scoped>\n    .dataframe tbody tr th:only-of-type {\n        vertical-align: middle;\n    }\n\n    .dataframe tbody tr th {\n        vertical-align: top;\n    }\n\n    .dataframe thead th {\n        text-align: right;\n    }\n</style>\n<table border=\"1\" class=\"dataframe\">\n  <thead>\n    <tr style=\"text-align: right;\">\n      <th></th>\n      <th>description</th>\n      <th>price</th>\n    </tr>\n  </thead>\n  <tbody>\n    <tr>\n      <th>0</th>\n      <td>The State Hotel features a fitness center, ter...</td>\n      <td>6.212606</td>\n    </tr>\n    <tr>\n      <th>1</th>\n      <td>Hotel Theodore is a nonsmoking hotel located i...</td>\n      <td>5.826000</td>\n    </tr>\n    <tr>\n      <th>2</th>\n      <td>Located in Central Seattle, Kimpton Hotel Mona...</td>\n      <td>6.084499</td>\n    </tr>\n    <tr>\n      <th>3</th>\n      <td>Less than 10 minutes’ drive from the Space Nee...</td>\n      <td>6.061457</td>\n    </tr>\n    <tr>\n      <th>4</th>\n      <td>Attractively set in Seattle, citizenM Seattle ...</td>\n      <td>5.937536</td>\n    </tr>\n    <tr>\n      <th>...</th>\n      <td>...</td>\n      <td>...</td>\n    </tr>\n    <tr>\n      <th>3054</th>\n      <td>Located in Apopka, Florida, this hotel offers ...</td>\n      <td>5.062595</td>\n    </tr>\n    <tr>\n      <th>3055</th>\n      <td>Featuring free WiFi, Hyatt Place Orlando Lake ...</td>\n      <td>5.446737</td>\n    </tr>\n    <tr>\n      <th>3056</th>\n      <td>Only 1 mi from Universal Studios Florida™, thi...</td>\n      <td>5.187386</td>\n    </tr>\n    <tr>\n      <th>3057</th>\n      <td>Experience all of the comforts of home, includ...</td>\n      <td>5.327876</td>\n    </tr>\n    <tr>\n      <th>3058</th>\n      <td>Centrally located close to Orlando's most popu...</td>\n      <td>4.997212</td>\n    </tr>\n  </tbody>\n</table>\n<p>3059 rows × 2 columns</p>\n</div>"
     },
     "execution_count": 1,
     "metadata": {},
     "output_type": "execute_result"
    }
   ],
   "source": [
    "import pandas as pd\n",
    "\n",
    "# this crates a very simple dataset where a description maps to a price\n",
    "df = pd.read_csv(\"data.csv\")\n",
    "df = df[[\"description\", \"price\"]]\n",
    "\n",
    "# remove all the genius discount information\n",
    "for i in range(df.shape[0]):\n",
    "    description = df.loc[i, \"description\"]\n",
    "    if \"Genius discount\" in description:\n",
    "        df.loc[i, \"description\"] = \" \".join(df.loc[i, \"description\"].split(\"\\n\")[1:])\n",
    "    else:\n",
    "        df.loc[i, \"description\"] = \" \".join(df.loc[i, \"description\"].split(\"\\n\"))\n",
    "\n",
    "# limit to 50 words of each description\n",
    "for i in range(df.shape[0]):\n",
    "    description = df.loc[i, \"description\"]\n",
    "    df.loc[i, \"description\"] = \" \".join(df.loc[i, \"description\"].split(\" \")[:50])\n",
    "\n",
    "df"
   ],
   "metadata": {
    "collapsed": false,
    "pycharm": {
     "name": "#%%\n"
    }
   }
  },
  {
   "cell_type": "code",
   "execution_count": 2,
   "outputs": [
    {
     "name": "stderr",
     "output_type": "stream",
     "text": [
      "Some weights of the model checkpoint at distilbert-base-uncased were not used when initializing DistilBertModel: ['vocab_layer_norm.bias', 'vocab_transform.weight', 'vocab_projector.weight', 'vocab_transform.bias', 'vocab_layer_norm.weight', 'vocab_projector.bias']\n",
      "- This IS expected if you are initializing DistilBertModel from the checkpoint of a model trained on another task or with another architecture (e.g. initializing a BertForSequenceClassification model from a BertForPreTraining model).\n",
      "- This IS NOT expected if you are initializing DistilBertModel from the checkpoint of a model that you expect to be exactly identical (initializing a BertForSequenceClassification model from a BertForSequenceClassification model).\n"
     ]
    }
   ],
   "source": [
    "from transformers import AutoModel, AutoTokenizer\n",
    "\n",
    "# load distilbert using huggingface transformers\n",
    "model_ckpt = \"distilbert-base-uncased\"\n",
    "device = \"cpu\"\n",
    "model = AutoModel.from_pretrained(model_ckpt).to(device)\n",
    "\n",
    "# select the tokenizer that we are using\n",
    "tokenizer = AutoTokenizer.from_pretrained(model_ckpt)\n",
    "inputs = tokenizer(df[\"description\"].tolist(), return_tensors=\"pt\", padding=True)"
   ],
   "metadata": {
    "collapsed": false,
    "pycharm": {
     "name": "#%%\n"
    }
   }
  },
  {
   "cell_type": "code",
   "execution_count": 3,
   "outputs": [
    {
     "name": "stdout",
     "output_type": "stream",
     "text": [
      "BaseModelOutput(last_hidden_state=tensor([[[-2.3708e-01, -2.3492e-02,  1.8794e-01,  ...,  3.5607e-02,\n",
      "           3.2778e-01,  3.1167e-01],\n",
      "         [-5.1986e-01, -1.5868e-01, -7.6253e-02,  ...,  7.2493e-01,\n",
      "           1.3479e+00, -1.9877e-01],\n",
      "         [-2.7865e-01, -2.2134e-01,  4.7810e-01,  ...,  1.2907e-01,\n",
      "           1.6998e-01,  1.9531e-01],\n",
      "         ...,\n",
      "         [-3.7749e-01,  9.0538e-02,  2.8604e-01,  ...,  1.4125e-01,\n",
      "           6.6137e-02,  4.3065e-01],\n",
      "         [ 2.1944e-01, -5.3321e-02,  2.6487e-01,  ...,  2.6372e-02,\n",
      "           1.2872e-02,  6.1563e-02],\n",
      "         [ 2.1706e-01, -5.3119e-02,  2.7640e-01,  ...,  5.3825e-02,\n",
      "           3.0555e-03,  5.7566e-02]],\n",
      "\n",
      "        [[-2.5935e-01, -1.5205e-02,  8.0381e-04,  ...,  1.5162e-01,\n",
      "           5.2034e-01,  2.7812e-01],\n",
      "         [ 4.3375e-01,  8.5137e-02, -7.0369e-02,  ...,  1.2842e-01,\n",
      "           1.1190e+00,  3.5222e-01],\n",
      "         [ 1.6665e-01,  3.2891e-01, -1.6947e-02,  ...,  7.8440e-02,\n",
      "           2.4559e-01,  2.9680e-01],\n",
      "         ...,\n",
      "         [ 3.7412e-01,  1.8515e-01,  9.3406e-02,  ...,  2.0760e-01,\n",
      "           3.8009e-03, -8.2819e-03],\n",
      "         [ 3.0628e-01,  2.3152e-01,  1.1375e-01,  ..., -6.5838e-02,\n",
      "           5.2205e-02, -4.4387e-02],\n",
      "         [ 2.4066e-01,  1.2921e-01,  1.4371e-01,  ..., -9.7309e-03,\n",
      "           3.6812e-02, -8.5697e-02]],\n",
      "\n",
      "        [[-3.0142e-01, -1.3859e-01,  1.1917e-01,  ...,  7.2193e-02,\n",
      "           5.2636e-01,  2.2439e-01],\n",
      "         [-5.2650e-01,  6.0671e-02,  1.3958e-01,  ..., -5.3051e-02,\n",
      "           9.5658e-01,  1.0517e-01],\n",
      "         [-1.1021e+00, -3.8962e-01,  5.4039e-01,  ..., -5.5780e-02,\n",
      "           5.3920e-01,  1.9736e-02],\n",
      "         ...,\n",
      "         [ 4.0990e-01,  1.8665e-02,  2.4934e-01,  ...,  1.2442e-01,\n",
      "          -3.1679e-02, -8.7471e-03],\n",
      "         [ 2.1048e-01, -1.7779e-01,  4.8102e-01,  ..., -2.6022e-02,\n",
      "           3.8559e-01,  3.9313e-02],\n",
      "         [ 1.7898e-01, -9.8828e-02,  2.9781e-01,  ..., -1.2279e-01,\n",
      "           1.3739e-01, -1.1403e-01]],\n",
      "\n",
      "        ...,\n",
      "\n",
      "        [[-1.9708e-01, -1.0723e-01,  2.7452e-01,  ...,  8.0591e-02,\n",
      "           4.8892e-01,  1.5041e-01],\n",
      "         [-7.6207e-01, -1.5215e-01,  1.1091e-01,  ...,  9.5194e-02,\n",
      "           5.0748e-01,  7.9207e-01],\n",
      "         [-4.9547e-01,  1.2211e-01,  3.7760e-01,  ..., -3.7445e-02,\n",
      "           1.0586e-01,  7.3253e-01],\n",
      "         ...,\n",
      "         [ 2.5162e-01,  1.2037e-01,  2.7284e-01,  ...,  3.6214e-01,\n",
      "          -1.0911e-01, -2.9504e-01],\n",
      "         [ 1.7220e-01,  4.5439e-03,  1.8206e-01,  ..., -4.7250e-02,\n",
      "           1.9619e-01, -2.1498e-01],\n",
      "         [ 1.2727e-01, -1.5828e-02,  2.3556e-01,  ..., -8.6503e-02,\n",
      "           1.8484e-01, -2.4957e-01]],\n",
      "\n",
      "        [[-2.2371e-01, -2.3076e-01,  2.0209e-01,  ...,  1.9437e-02,\n",
      "           4.4917e-01,  1.1936e-01],\n",
      "         [-3.5664e-01,  4.6050e-01,  5.8284e-01,  ...,  1.3851e-01,\n",
      "           1.6320e-01, -1.2318e-01],\n",
      "         [-7.6465e-01,  1.8713e-01,  7.4630e-01,  ..., -4.1069e-02,\n",
      "           4.1180e-01,  3.4140e-01],\n",
      "         ...,\n",
      "         [ 3.1130e-01, -1.9604e-01,  2.6303e-01,  ...,  3.7092e-03,\n",
      "          -1.3508e-01,  1.2883e-02],\n",
      "         [ 4.0364e-01, -1.8755e-01,  5.5154e-01,  ...,  3.3593e-01,\n",
      "          -4.5503e-01,  1.2317e-02],\n",
      "         [ 4.3175e-01, -2.0681e-01,  5.5509e-01,  ...,  3.4935e-01,\n",
      "          -3.9891e-01,  2.0004e-02]],\n",
      "\n",
      "        [[-2.2073e-01, -1.1437e-01,  1.0978e-01,  ..., -1.2042e-01,\n",
      "           3.8716e-01,  3.1304e-01],\n",
      "         [-2.2321e-01,  3.3724e-01,  1.8819e-01,  ..., -7.5232e-02,\n",
      "           6.9876e-01,  3.5167e-01],\n",
      "         [-6.6412e-01, -1.9238e-02,  2.6477e-01,  ..., -1.3315e-01,\n",
      "           5.4657e-01,  2.9360e-01],\n",
      "         ...,\n",
      "         [ 3.9170e-02, -1.5156e-01,  2.1321e-01,  ...,  1.4868e-01,\n",
      "          -1.8769e-02,  4.3363e-01],\n",
      "         [ 6.1443e-02, -1.5606e-01,  1.7071e-01,  ...,  1.0031e-01,\n",
      "          -1.1380e-03,  3.0288e-01],\n",
      "         [ 6.4742e-02, -1.5640e-01,  2.4421e-01,  ..., -6.5677e-03,\n",
      "          -9.0313e-03,  1.6420e-01]]]), hidden_states=None, attentions=None)\n"
     ]
    }
   ],
   "source": [
    "import torch\n",
    "\n",
    "inputs = {k:v.to(device) for k, v in inputs.items()}\n",
    "with torch.no_grad():\n",
    "    outputs = model(**inputs)\n",
    "print(outputs)"
   ],
   "metadata": {
    "collapsed": false,
    "pycharm": {
     "name": "#%%\n"
    }
   }
  },
  {
   "cell_type": "code",
   "execution_count": 4,
   "outputs": [
    {
     "data": {
      "text/plain": "((3059, 768), (3059,))"
     },
     "execution_count": 4,
     "metadata": {},
     "output_type": "execute_result"
    }
   ],
   "source": [
    "# extract the CLS of each sentence\n",
    "latent_space = outputs.last_hidden_state[:, 0].numpy()\n",
    "price = df['price'].to_numpy()\n",
    "latent_space.shape, price.shape"
   ],
   "metadata": {
    "collapsed": false,
    "pycharm": {
     "name": "#%%\n"
    }
   }
  },
  {
   "cell_type": "code",
   "execution_count": 14,
   "outputs": [
    {
     "name": "stdout",
     "output_type": "stream",
     "text": [
      "Training Score: 0.58193879341671\n",
      "Test Score: 0.5272583121022987\n"
     ]
    },
    {
     "data": {
      "text/plain": "<Figure size 432x288 with 1 Axes>",
      "image/png": "[encoded data removed]"
     },
     "metadata": {},
     "output_type": "display_data"
    }
   ],
   "source": [
    "import seaborn as sns\n",
    "import matplotlib.pyplot as plt\n",
    "import numpy as np\n",
    "from sklearn.linear_model import Ridge\n",
    "from sklearn.model_selection import train_test_split\n",
    "from sklearn.decomposition import PCA\n",
    "\n",
    "# run linear regression\n",
    "X, y = latent_space, price\n",
    "# X = PCA(n_components=64).fit_transform(X)\n",
    "X_train, X_test, y_train, y_test = train_test_split(\n",
    "    X, y, random_state=0)\n",
    "reg = Ridge(alpha=10).fit(X_train, y_train)\n",
    "predicted = reg.predict(X_test)\n",
    "print(\"Training Score:\", reg.score(X_train, y_train))\n",
    "print(\"Test Score:\", reg.score(X_test, y_test))\n",
    "\n",
    "# plot the data\n",
    "sns.set_style(\"white\")\n",
    "sns.set_palette(\"pastel\")\n",
    "sns.scatterplot(x=y_test, y=predicted, alpha=0.6)\n",
    "x_range = np.linspace(3.2, 7, 10)\n",
    "sns.lineplot(x=x_range, y=x_range, color='k', ls=\"--\")\n",
    "plt.xlabel(\"True Price (log $)\")\n",
    "plt.ylabel(\"Predicted Price (log $)\")\n",
    "plt.title(\"Description Model\")\n",
    "sns.despine()\n",
    "plt.savefig(\"../figures/description_model.png\", dpi=200)\n",
    "plt.show()"
   ],
   "metadata": {
    "collapsed": false,
    "pycharm": {
     "name": "#%%\n"
    }
   }
  },
  {
   "cell_type": "code",
   "execution_count": 15,
   "outputs": [
    {
     "name": "stderr",
     "output_type": "stream",
     "text": [
      "Some weights of the model checkpoint at distilbert-base-uncased were not used when initializing DistilBertForSequenceClassification: ['vocab_layer_norm.bias', 'vocab_transform.weight', 'vocab_projector.weight', 'vocab_transform.bias', 'vocab_layer_norm.weight', 'vocab_projector.bias']\n",
      "- This IS expected if you are initializing DistilBertForSequenceClassification from the checkpoint of a model trained on another task or with another architecture (e.g. initializing a BertForSequenceClassification model from a BertForPreTraining model).\n",
      "- This IS NOT expected if you are initializing DistilBertForSequenceClassification from the checkpoint of a model that you expect to be exactly identical (initializing a BertForSequenceClassification model from a BertForSequenceClassification model).\n",
      "Some weights of DistilBertForSequenceClassification were not initialized from the model checkpoint at distilbert-base-uncased and are newly initialized: ['classifier.bias', 'classifier.weight', 'pre_classifier.bias', 'pre_classifier.weight']\n",
      "You should probably TRAIN this model on a down-stream task to be able to use it for predictions and inference.\n"
     ]
    }
   ],
   "source": [
    "from transformers import AutoModelForSequenceClassification\n",
    "from sklearn.metrics import mean_squared_error\n",
    "from transformers import TrainingArguments, Trainer\n",
    "\n",
    "# to use regression we set num_labels = 1\n",
    "fine_tuned_model = AutoModelForSequenceClassification.from_pretrained(model_ckpt, num_labels=1)\n",
    "\n",
    "def compute_metrics(eval_pred):\n",
    "    predictions, labels = eval_pred\n",
    "    rmse = mean_squared_error(labels, predictions)\n",
    "    return {\"rmse\": rmse}\n",
    "\n",
    "training_args = TrainingArguments(output_dir=\"test_trainer\",\n",
    "                                  logging_strategy=\"epoch\",\n",
    "                                  evaluation_strategy=\"epoch\",\n",
    "                                  per_device_train_batch_size=16,\n",
    "                                  per_device_eval_batch_size=16,\n",
    "                                  num_train_epochs=3,\n",
    "                                  save_total_limit = 2,\n",
    "                                  save_strategy = 'no',\n",
    "                                  load_best_model_at_end=False\n",
    ")\n",
    "\n",
    "trainer = Trainer(\n",
    "    model=fine_tuned_model,\n",
    "    args=training_args,\n",
    "    train_dataset=X_train,\n",
    "    eval_dataset=X_test,\n",
    "    compute_metrics=compute_metrics\n",
    ")\n",
    "\n",
    "trainer.train()\n",
    "\n"
   ],
   "metadata": {
    "collapsed": false,
    "pycharm": {
     "name": "#%%\n"
    }
   }
  },
  {
   "cell_type": "code",
   "execution_count": 18,
   "outputs": [
    {
     "data": {
      "text/plain": "{'input_ids': tensor([[  101,  1996,  2110,  ...,     0,     0,     0],\n         [  101,  3309, 10117,  ...,     0,     0,     0],\n         [  101,  2284,  1999,  ...,     0,     0,     0],\n         ...,\n         [  101,  2069,  1015,  ...,     0,     0,     0],\n         [  101,  3325,  2035,  ...,     0,     0,     0],\n         [  101, 25497,  2284,  ...,     0,     0,     0]]),\n 'attention_mask': tensor([[1, 1, 1,  ..., 0, 0, 0],\n         [1, 1, 1,  ..., 0, 0, 0],\n         [1, 1, 1,  ..., 0, 0, 0],\n         ...,\n         [1, 1, 1,  ..., 0, 0, 0],\n         [1, 1, 1,  ..., 0, 0, 0],\n         [1, 1, 1,  ..., 0, 0, 0]])}"
     },
     "execution_count": 18,
     "metadata": {},
     "output_type": "execute_result"
    }
   ],
   "source": [
    "inputs"
   ],
   "metadata": {
    "collapsed": false,
    "pycharm": {
     "name": "#%%\n"
    }
   }
  },
  {
   "cell_type": "code",
   "execution_count": 20,
   "outputs": [
    {
     "data": {
      "text/plain": "torch.Size([3059, 85])"
     },
     "execution_count": 20,
     "metadata": {},
     "output_type": "execute_result"
    }
   ],
   "source": [
    "inputs[\"input_ids\"].shape"
   ],
   "metadata": {
    "collapsed": false,
    "pycharm": {
     "name": "#%%\n"
    }
   }
  },
  {
   "cell_type": "code",
   "execution_count": null,
   "outputs": [],
   "source": [],
   "metadata": {
    "collapsed": false,
    "pycharm": {
     "name": "#%%\n"
    }
   }
  }
 ],
 "metadata": {
  "kernelspec": {
   "display_name": "Python 3",
   "language": "python",
   "name": "python3"
  },
  "language_info": {
   "codemirror_mode": {
    "name": "ipython",
    "version": 2
   },
   "file_extension": ".py",
   "mimetype": "text/x-python",
   "name": "python",
   "nbconvert_exporter": "python",
   "pygments_lexer": "ipython2",
   "version": "2.7.6"
  }
 },
 "nbformat": 4,
 "nbformat_minor": 0
}