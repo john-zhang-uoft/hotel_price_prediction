{
 "cells": [
  {
   "cell_type": "code",
   "execution_count": 4,
   "metadata": {},
   "outputs": [],
   "source": [
    "# Define model\n",
    "import torch\n",
    "import torch.nn as nn\n",
    "\n",
    "NUM_FEATURES = 0\n",
    "\n",
    "\n",
    "# Network that takes in all the input features and outputs a vector of qualities\n",
    "class QualityPredictor(nn.Module):\n",
    "    def __init__(self, input_size, output_size, hidden_layer_sizes):\n",
    "        super(QualityPredictor, self).__init__()\n",
    "\n",
    "        # Create input layer\n",
    "        self.input_layer = nn.Linear(input_size, hidden_layer_sizes[0])\n",
    "\n",
    "        # Create hidden layers dynamically based on args\n",
    "        hidden_layers = []\n",
    "        for i in range(1, len(hidden_layer_sizes)):\n",
    "            hidden_size = hidden_layer_sizes[i]\n",
    "            hidden_layers.append(nn.Linear(hidden_layer_sizes[i - 1], hidden_size))\n",
    "        self.hidden_layers = nn.ModuleList(hidden_layers)\n",
    "        self.output_layer = nn.Linear(hidden_layer_sizes[-1], output_size)\n",
    "\n",
    "    def forward(self, x):\n",
    "        x = torch.relu(self.input_layer(x))\n",
    "        for hidden_layer in self.hidden_layers:\n",
    "            x = torch.relu(hidden_layer(x))\n",
    "        x = self.output_layer(x)\n",
    "        return x\n",
    "\n",
    "\n",
    "class SatisfactionPredictor(nn.Module):\n",
    "    def __init__(self, hidden_layer_sizes):\n",
    "        super(SatisfactionPredictor, self).__init__()\n",
    "\n",
    "        # Create input layer\n",
    "        self.input_layer = nn.Linear(2, hidden_layer_sizes[0])\n",
    "\n",
    "        # Create hidden layers dynamically based on args\n",
    "        hidden_layers = []\n",
    "        for i in range(1, len(hidden_layer_sizes)):\n",
    "            hidden_size = hidden_layer_sizes[i]\n",
    "            hidden_layers.append(nn.Linear(hidden_layer_sizes[i - 1], hidden_size))\n",
    "        self.hidden_layers = nn.ModuleList(hidden_layers)\n",
    "        self.output_layer = nn.Linear(hidden_layer_sizes[-1], 1)\n",
    "\n",
    "    def forward(self, x):\n",
    "        x = torch.relu(self.input_layer(x))\n",
    "        for hidden_layer in self.hidden_layers:\n",
    "            x = torch.relu(hidden_layer(x))\n",
    "        x = self.output_layer(x)\n",
    "        return x\n",
    "\n",
    "\n",
    "class CausalModel(nn.Module):\n",
    "    def __init__(self, input_size, num_quality_scores, quality_predictor_hidden_layer_sizes,\n",
    "                 satisfaction_predictor_hidden_layer_sizes, activation_on_quality):\n",
    "        super(CausalModel, self).__init__()\n",
    "        self.num_quality_scores = num_quality_scores\n",
    "\n",
    "        self.quality_predictor_net = QualityPredictor(input_size, num_quality_scores,\n",
    "                                                      quality_predictor_hidden_layer_sizes)\n",
    "\n",
    "        self.activation_on_quality = activation_on_quality\n",
    "\n",
    "        self.satisfaction_predictors = []\n",
    "        for i in range(num_quality_scores):\n",
    "            self.satisfaction_predictors.append(SatisfactionPredictor(satisfaction_predictor_hidden_layer_sizes))\n",
    "\n",
    "    def forward(self, x):\n",
    "        qualities = self.quality_predictor_net(x)\n",
    "        qualities = self.activation_on_quality(qualities)\n",
    "\n",
    "        satisfactions = torch.zeros(self.num_quality_scores, 1)\n",
    "        for i, sat_predictor in enumerate(self.satisfaction_predictors):\n",
    "            satisfactions[i] = sat_predictor(qualities[i])\n",
    "\n",
    "        return satisfactions"
   ]
  },
  {
   "cell_type": "code",
   "execution_count": 12,
   "metadata": {
    "pycharm": {
     "name": "#%%\n"
    }
   },
   "outputs": [],
   "source": []
  },
  {
   "cell_type": "code",
   "execution_count": null,
   "metadata": {},
   "outputs": [],
   "source": []
  }
 ],
 "metadata": {
  "kernelspec": {
   "display_name": "Python 3 (ipykernel)",
   "language": "python",
   "name": "python3"
  },
  "language_info": {
   "codemirror_mode": {
    "name": "ipython",
    "version": 3
   },
   "file_extension": ".py",
   "mimetype": "text/x-python",
   "name": "python",
   "nbconvert_exporter": "python",
   "pygments_lexer": "ipython3",
   "version": "3.9.7"
  }
 },
 "nbformat": 4,
 "nbformat_minor": 1
}