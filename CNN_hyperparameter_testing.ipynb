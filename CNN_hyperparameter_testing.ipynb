{
  "cells": [
    {
      "cell_type": "code",
      "execution_count": null,
      "metadata": {
        "colab": {
          "base_uri": "https://localhost:8080/"
        },
        "id": "vII5nogmOxmT",
        "outputId": "066c4d2b-5821-41c0-d423-c376965d5b94"
      },
      "outputs": [
        {
          "output_type": "stream",
          "name": "stdout",
          "text": [
            "Drive already mounted at /content/drive; to attempt to forcibly remount, call drive.mount(\"/content/drive\", force_remount=True).\n"
          ]
        }
      ],
      "source": [
        "# Import necessary libraries\n",
        "import torch\n",
        "import torchvision.models as models\n",
        "import torch.nn as nn\n",
        "\n",
        "from google.colab import drive\n",
        "\n",
        "drive.mount('/content/drive')\n",
        "\n",
        "import numpy as np\n",
        "from os import listdir\n",
        "\n",
        "import pandas as pd\n",
        "\n",
        "from tqdm import tqdm\n",
        "import matplotlib.pyplot as plt\n",
        "\n",
        "\n",
        "\n",
        "# hyperparameter set\n",
        "\n",
        "# through experimenting to see which hyperparameters have the largest effect, \n",
        "# we decided that the hyperparameters we will tune are:\n",
        "\n",
        "# learning rate\n",
        "# dropout probability\n",
        "# depth of second regressor fc layer\n",
        "# weight decay coefficient\n",
        "\n",
        "\n",
        "\n",
        "# the current set of hyperparameters\n",
        "# running all subsequent codeblocks will test these hyperparameters, graph, and save the model\n",
        "hyper = [0.001, 0.25, [2048, 2048], 0.1, 24, 50]\n",
        "\n",
        "\n",
        "# the randomization code was moved to another file temporarily to simplify things \n",
        "# so i can do manual hyperparameter testing for now\n",
        "\n"
      ]
    },
    {
      "cell_type": "code",
      "execution_count": null,
      "metadata": {
        "colab": {
          "base_uri": "https://localhost:8080/"
        },
        "id": "leU-gC-WfIRS",
        "outputId": "eac098db-5f1a-4beb-ba7e-ad6055deb93c"
      },
      "outputs": [
        {
          "output_type": "stream",
          "name": "stderr",
          "text": [
            "/usr/local/lib/python3.9/dist-packages/torchvision/models/_utils.py:208: UserWarning: The parameter 'pretrained' is deprecated since 0.13 and may be removed in the future, please use 'weights' instead.\n",
            "  warnings.warn(\n",
            "/usr/local/lib/python3.9/dist-packages/torchvision/models/_utils.py:223: UserWarning: Arguments other than a weight enum or `None` for 'weights' are deprecated since 0.13 and may be removed in the future. The current behavior is equivalent to passing `weights=VGG16_Weights.IMAGENET1K_V1`. You can also use `weights=VGG16_Weights.DEFAULT` to get the most up-to-date weights.\n",
            "  warnings.warn(msg)\n"
          ]
        }
      ],
      "source": [
        "model = models.vgg16(pretrained=True)\n",
        "\n",
        "# define loss\n",
        "loss_function = torch.nn.MSELoss()\n",
        "\n",
        "\n",
        "class FolderDataset():\n",
        "    def __init__(self, folder):\n",
        "        self.files = listdir(folder)\n",
        "        self.folder = folder\n",
        "\n",
        "    def __len__(self):\n",
        "        return len(self.files)\n",
        "\n",
        "    def __getitem__(self, idx):\n",
        "        return torch.load(f\"{self.folder}/{self.files[idx]}\")\n",
        "\n",
        "\n",
        "train_folder_data = FolderDataset(\"/content/drive/MyDrive/test-validation-train/train_set\")\n",
        "\n",
        "valid_folder_data = FolderDataset(\"/content/drive/MyDrive/test-validation-train/valid_set\")\n",
        "\n",
        "test_folder_data = FolderDataset(\"/content/drive/MyDrive/test-validation-train/test_set\")"
      ]
    },
    {
      "cell_type": "code",
      "execution_count": null,
      "metadata": {
        "colab": {
          "base_uri": "https://localhost:8080/",
          "height": 53
        },
        "id": "PVjgGNF3fBZM",
        "outputId": "5c25255e-19ea-4a86-e37a-b95747df6c18"
      },
      "outputs": [
        {
          "output_type": "execute_result",
          "data": {
            "text/plain": [
              "'\\nfeats_list = list(model.features)\\nnew_feats_list = []\\nfor feat in feats_list:\\n    new_feats_list.append(feat)\\n    if isinstance(feat, nn.Conv2d):\\n        new_feats_list.append(nn.Dropout(p=0.25, inplace=True))\\n\\n# modify convolution layers\\nmodel.features = nn.Sequential(*new_feats_list)\\n'"
            ],
            "application/vnd.google.colaboratory.intrinsic+json": {
              "type": "string"
            }
          },
          "metadata": {},
          "execution_count": 3
        }
      ],
      "source": [
        "'''\n",
        "for i, param in enumerate(model.parameters()):\n",
        "    if i < hyper[4]:\n",
        "        param.requires_grad = False\n",
        "'''\n",
        "\n",
        "'''\n",
        "feats_list = list(model.features)\n",
        "new_feats_list = []\n",
        "for feat in feats_list:\n",
        "    new_feats_list.append(feat)\n",
        "    if isinstance(feat, nn.Conv2d):\n",
        "        new_feats_list.append(nn.Dropout(p=0.25, inplace=True))\n",
        "\n",
        "# modify convolution layers\n",
        "model.features = nn.Sequential(*new_feats_list)\n",
        "'''\n",
        "\n",
        "num_classes = 1  # Assuming scalar labels\n",
        "model.classifier = nn.Sequential(\n",
        "    #nn.Dropout(p=hyper[1], inplace=True),\n",
        "    nn.Linear(25088, hyper[2][0]),  # Example FC layer 1\n",
        "    nn.ReLU(inplace=True),\n",
        "    nn.Dropout(p=hyper[1]),\n",
        "    nn.Linear(hyper[2][0], hyper[2][1]),  # Example FC layer 3\n",
        "    nn.ReLU(inplace=True),\n",
        "    nn.Dropout(p=hyper[1]),\n",
        "    nn.Linear(hyper[2][1], num_classes)  # Example output layer\n",
        ")\n",
        "\n",
        "\n",
        "#optimizer = torch.optim.Adam(filter(lambda p: p.requires_grad, model.parameters()), lr=hyper[0], weight_decay=hyper[3])\n",
        "optimizer = torch.optim.Adam(model.classifier.parameters(), lr=hyper[0], weight_decay=hyper[3])\n",
        "\n",
        "\n",
        "# Set the device to GPU if available\n",
        "device = torch.device(\"cuda\" if torch.cuda.is_available() else \"cpu\")\n",
        "\n",
        "# Move the model to the GPU\n",
        "model = model.to(device)\n",
        "\n",
        "# Initialize a list to store the loss values\n",
        "loss_values = []\n",
        "valid_loss = []\n",
        "\n",
        "overall_epoch_loss_train = []\n",
        "overall_epoch_loss_valid = []\n",
        "\n",
        "num_epochs = hyper[5]\n"
      ]
    },
    {
      "cell_type": "code",
      "execution_count": null,
      "metadata": {
        "colab": {
          "base_uri": "https://localhost:8080/",
          "height": 1000
        },
        "id": "ALcwwPrk-eDu",
        "outputId": "ea65a027-9173-4e74-dd38-523189ec55f7"
      },
      "outputs": [
        {
          "output_type": "stream",
          "name": "stderr",
          "text": [
            "Epoch 1/50: 100%|██████████| 151/151 [00:40<00:00,  3.77it/s]\n"
          ]
        },
        {
          "output_type": "stream",
          "name": "stdout",
          "text": [
            "0.600308043919257\n"
          ]
        },
        {
          "output_type": "stream",
          "name": "stderr",
          "text": [
            "Eval Epoch 1/50: 100%|██████████| 19/19 [00:01<00:00, 10.77it/s]\n"
          ]
        },
        {
          "output_type": "stream",
          "name": "stdout",
          "text": [
            "1.289395465662605\n"
          ]
        },
        {
          "output_type": "stream",
          "name": "stderr",
          "text": [
            "Epoch 2/50: 100%|██████████| 151/151 [00:39<00:00,  3.85it/s]\n"
          ]
        },
        {
          "output_type": "stream",
          "name": "stdout",
          "text": [
            "0.6160362203981703\n"
          ]
        },
        {
          "output_type": "stream",
          "name": "stderr",
          "text": [
            "Eval Epoch 2/50: 100%|██████████| 19/19 [00:01<00:00, 10.79it/s]\n"
          ]
        },
        {
          "output_type": "stream",
          "name": "stdout",
          "text": [
            "1.4570645595851697\n"
          ]
        },
        {
          "output_type": "stream",
          "name": "stderr",
          "text": [
            "Epoch 3/50: 100%|██████████| 151/151 [00:39<00:00,  3.80it/s]\n"
          ]
        },
        {
          "output_type": "stream",
          "name": "stdout",
          "text": [
            "0.5950658065297746\n"
          ]
        },
        {
          "output_type": "stream",
          "name": "stderr",
          "text": [
            "Eval Epoch 3/50: 100%|██████████| 19/19 [00:01<00:00, 10.69it/s]\n"
          ]
        },
        {
          "output_type": "stream",
          "name": "stdout",
          "text": [
            "1.267721550245034\n"
          ]
        },
        {
          "output_type": "stream",
          "name": "stderr",
          "text": [
            "Epoch 4/50: 100%|██████████| 151/151 [00:39<00:00,  3.84it/s]\n"
          ]
        },
        {
          "output_type": "stream",
          "name": "stdout",
          "text": [
            "0.6313178676445752\n"
          ]
        },
        {
          "output_type": "stream",
          "name": "stderr",
          "text": [
            "Eval Epoch 4/50: 100%|██████████| 19/19 [00:01<00:00, 10.75it/s]\n"
          ]
        },
        {
          "output_type": "stream",
          "name": "stdout",
          "text": [
            "1.5005032169191461\n"
          ]
        },
        {
          "output_type": "stream",
          "name": "stderr",
          "text": [
            "Epoch 5/50: 100%|██████████| 151/151 [00:39<00:00,  3.83it/s]\n"
          ]
        },
        {
          "output_type": "stream",
          "name": "stdout",
          "text": [
            "0.6113051801722571\n"
          ]
        },
        {
          "output_type": "stream",
          "name": "stderr",
          "text": [
            "Eval Epoch 5/50: 100%|██████████| 19/19 [00:01<00:00, 10.59it/s]\n"
          ]
        },
        {
          "output_type": "stream",
          "name": "stdout",
          "text": [
            "1.4719546750972146\n"
          ]
        },
        {
          "output_type": "stream",
          "name": "stderr",
          "text": [
            "Epoch 6/50: 100%|██████████| 151/151 [00:39<00:00,  3.82it/s]\n"
          ]
        },
        {
          "output_type": "stream",
          "name": "stdout",
          "text": [
            "0.627333081814627\n"
          ]
        },
        {
          "output_type": "stream",
          "name": "stderr",
          "text": [
            "Eval Epoch 6/50: 100%|██████████| 19/19 [00:01<00:00, 10.14it/s]\n"
          ]
        },
        {
          "output_type": "stream",
          "name": "stdout",
          "text": [
            "1.6034654253407528\n"
          ]
        },
        {
          "output_type": "stream",
          "name": "stderr",
          "text": [
            "Epoch 7/50: 100%|██████████| 151/151 [00:39<00:00,  3.83it/s]\n"
          ]
        },
        {
          "output_type": "stream",
          "name": "stdout",
          "text": [
            "0.640778783437432\n"
          ]
        },
        {
          "output_type": "stream",
          "name": "stderr",
          "text": [
            "Eval Epoch 7/50: 100%|██████████| 19/19 [00:01<00:00,  9.89it/s]\n"
          ]
        },
        {
          "output_type": "stream",
          "name": "stdout",
          "text": [
            "1.323642451512186\n"
          ]
        },
        {
          "output_type": "stream",
          "name": "stderr",
          "text": [
            "Epoch 8/50: 100%|██████████| 151/151 [00:39<00:00,  3.84it/s]\n"
          ]
        },
        {
          "output_type": "stream",
          "name": "stdout",
          "text": [
            "0.6584687560599372\n"
          ]
        },
        {
          "output_type": "stream",
          "name": "stderr",
          "text": [
            "Eval Epoch 8/50: 100%|██████████| 19/19 [00:01<00:00,  9.80it/s]\n"
          ]
        },
        {
          "output_type": "stream",
          "name": "stdout",
          "text": [
            "1.4297860343205302\n"
          ]
        },
        {
          "output_type": "stream",
          "name": "stderr",
          "text": [
            "Epoch 9/50: 100%|██████████| 151/151 [00:39<00:00,  3.82it/s]\n"
          ]
        },
        {
          "output_type": "stream",
          "name": "stdout",
          "text": [
            "0.5946611434418634\n"
          ]
        },
        {
          "output_type": "stream",
          "name": "stderr",
          "text": [
            "Eval Epoch 9/50: 100%|██████████| 19/19 [00:01<00:00, 10.35it/s]\n"
          ]
        },
        {
          "output_type": "stream",
          "name": "stdout",
          "text": [
            "1.4022004243574644\n"
          ]
        },
        {
          "output_type": "stream",
          "name": "stderr",
          "text": [
            "Epoch 10/50: 100%|██████████| 151/151 [00:39<00:00,  3.83it/s]\n"
          ]
        },
        {
          "output_type": "stream",
          "name": "stdout",
          "text": [
            "0.6298860161509735\n"
          ]
        },
        {
          "output_type": "stream",
          "name": "stderr",
          "text": [
            "Eval Epoch 10/50: 100%|██████████| 19/19 [00:01<00:00, 10.73it/s]\n"
          ]
        },
        {
          "output_type": "stream",
          "name": "stdout",
          "text": [
            "1.3173924637468237\n"
          ]
        },
        {
          "output_type": "stream",
          "name": "stderr",
          "text": [
            "Epoch 11/50: 100%|██████████| 151/151 [00:39<00:00,  3.82it/s]\n"
          ]
        },
        {
          "output_type": "stream",
          "name": "stdout",
          "text": [
            "0.5265229129238634\n"
          ]
        },
        {
          "output_type": "stream",
          "name": "stderr",
          "text": [
            "Eval Epoch 11/50: 100%|██████████| 19/19 [00:01<00:00, 10.71it/s]\n"
          ]
        },
        {
          "output_type": "stream",
          "name": "stdout",
          "text": [
            "1.4725507560529207\n"
          ]
        },
        {
          "output_type": "stream",
          "name": "stderr",
          "text": [
            "Epoch 12/50: 100%|██████████| 151/151 [00:39<00:00,  3.83it/s]\n"
          ]
        },
        {
          "output_type": "stream",
          "name": "stdout",
          "text": [
            "0.5970996438667474\n"
          ]
        },
        {
          "output_type": "stream",
          "name": "stderr",
          "text": [
            "Eval Epoch 12/50: 100%|██████████| 19/19 [00:01<00:00, 10.76it/s]\n"
          ]
        },
        {
          "output_type": "stream",
          "name": "stdout",
          "text": [
            "1.2187541629138745\n"
          ]
        },
        {
          "output_type": "stream",
          "name": "stderr",
          "text": [
            "Epoch 13/50: 100%|██████████| 151/151 [00:39<00:00,  3.84it/s]\n"
          ]
        },
        {
          "output_type": "stream",
          "name": "stdout",
          "text": [
            "0.6119126837379885\n"
          ]
        },
        {
          "output_type": "stream",
          "name": "stderr",
          "text": [
            "Eval Epoch 13/50: 100%|██████████| 19/19 [00:01<00:00, 10.69it/s]\n"
          ]
        },
        {
          "output_type": "stream",
          "name": "stdout",
          "text": [
            "1.58985393925717\n"
          ]
        },
        {
          "output_type": "stream",
          "name": "stderr",
          "text": [
            "Epoch 14/50: 100%|██████████| 151/151 [00:39<00:00,  3.84it/s]\n"
          ]
        },
        {
          "output_type": "stream",
          "name": "stdout",
          "text": [
            "0.7097699368828969\n"
          ]
        },
        {
          "output_type": "stream",
          "name": "stderr",
          "text": [
            "Eval Epoch 14/50: 100%|██████████| 19/19 [00:01<00:00, 10.77it/s]\n"
          ]
        },
        {
          "output_type": "stream",
          "name": "stdout",
          "text": [
            "1.2875351152921979\n"
          ]
        },
        {
          "output_type": "stream",
          "name": "stderr",
          "text": [
            "Epoch 15/50: 100%|██████████| 151/151 [00:39<00:00,  3.82it/s]\n"
          ]
        },
        {
          "output_type": "stream",
          "name": "stdout",
          "text": [
            "0.7320581321289997\n"
          ]
        },
        {
          "output_type": "stream",
          "name": "stderr",
          "text": [
            "Eval Epoch 15/50: 100%|██████████| 19/19 [00:01<00:00, 10.69it/s]\n"
          ]
        },
        {
          "output_type": "stream",
          "name": "stdout",
          "text": [
            "1.8010708752431368\n"
          ]
        },
        {
          "output_type": "stream",
          "name": "stderr",
          "text": [
            "Epoch 16/50: 100%|██████████| 151/151 [00:39<00:00,  3.84it/s]\n"
          ]
        },
        {
          "output_type": "stream",
          "name": "stdout",
          "text": [
            "0.6498104090130092\n"
          ]
        },
        {
          "output_type": "stream",
          "name": "stderr",
          "text": [
            "Eval Epoch 16/50: 100%|██████████| 19/19 [00:01<00:00, 10.73it/s]\n"
          ]
        },
        {
          "output_type": "stream",
          "name": "stdout",
          "text": [
            "1.4524228761070652\n"
          ]
        },
        {
          "output_type": "stream",
          "name": "stderr",
          "text": [
            "Epoch 17/50: 100%|██████████| 151/151 [00:39<00:00,  3.83it/s]\n"
          ]
        },
        {
          "output_type": "stream",
          "name": "stdout",
          "text": [
            "0.5944877283659992\n"
          ]
        },
        {
          "output_type": "stream",
          "name": "stderr",
          "text": [
            "Eval Epoch 17/50: 100%|██████████| 19/19 [00:01<00:00, 10.74it/s]\n"
          ]
        },
        {
          "output_type": "stream",
          "name": "stdout",
          "text": [
            "1.4381319221697355\n"
          ]
        },
        {
          "output_type": "stream",
          "name": "stderr",
          "text": [
            "Epoch 18/50: 100%|██████████| 151/151 [00:39<00:00,  3.82it/s]\n"
          ]
        },
        {
          "output_type": "stream",
          "name": "stdout",
          "text": [
            "0.5833530630299587\n"
          ]
        },
        {
          "output_type": "stream",
          "name": "stderr",
          "text": [
            "Eval Epoch 18/50: 100%|██████████| 19/19 [00:01<00:00, 10.55it/s]\n"
          ]
        },
        {
          "output_type": "stream",
          "name": "stdout",
          "text": [
            "1.287472884121694\n"
          ]
        },
        {
          "output_type": "stream",
          "name": "stderr",
          "text": [
            "Epoch 19/50: 100%|██████████| 151/151 [00:39<00:00,  3.82it/s]\n"
          ]
        },
        {
          "output_type": "stream",
          "name": "stdout",
          "text": [
            "0.638250293123801\n"
          ]
        },
        {
          "output_type": "stream",
          "name": "stderr",
          "text": [
            "Eval Epoch 19/50: 100%|██████████| 19/19 [00:01<00:00, 10.28it/s]\n"
          ]
        },
        {
          "output_type": "stream",
          "name": "stdout",
          "text": [
            "1.7192923332515515\n"
          ]
        },
        {
          "output_type": "stream",
          "name": "stderr",
          "text": [
            "Epoch 20/50: 100%|██████████| 151/151 [00:39<00:00,  3.83it/s]\n"
          ]
        },
        {
          "output_type": "stream",
          "name": "stdout",
          "text": [
            "0.658657885051721\n"
          ]
        },
        {
          "output_type": "stream",
          "name": "stderr",
          "text": [
            "Eval Epoch 20/50: 100%|██████████| 19/19 [00:01<00:00,  9.94it/s]\n"
          ]
        },
        {
          "output_type": "stream",
          "name": "stdout",
          "text": [
            "1.6155154956014532\n"
          ]
        },
        {
          "output_type": "stream",
          "name": "stderr",
          "text": [
            "Epoch 21/50: 100%|██████████| 151/151 [00:39<00:00,  3.83it/s]\n"
          ]
        },
        {
          "output_type": "stream",
          "name": "stdout",
          "text": [
            "0.6537456195678143\n"
          ]
        },
        {
          "output_type": "stream",
          "name": "stderr",
          "text": [
            "Eval Epoch 21/50: 100%|██████████| 19/19 [00:01<00:00,  9.93it/s]\n"
          ]
        },
        {
          "output_type": "stream",
          "name": "stdout",
          "text": [
            "1.3264795196683783\n"
          ]
        },
        {
          "output_type": "stream",
          "name": "stderr",
          "text": [
            "Epoch 22/50: 100%|██████████| 151/151 [00:39<00:00,  3.83it/s]\n"
          ]
        },
        {
          "output_type": "stream",
          "name": "stdout",
          "text": [
            "0.5925206150736241\n"
          ]
        },
        {
          "output_type": "stream",
          "name": "stderr",
          "text": [
            "Eval Epoch 22/50: 100%|██████████| 19/19 [00:01<00:00, 10.38it/s]\n"
          ]
        },
        {
          "output_type": "stream",
          "name": "stdout",
          "text": [
            "1.3000914642685337\n"
          ]
        },
        {
          "output_type": "stream",
          "name": "stderr",
          "text": [
            "Epoch 23/50: 100%|██████████| 151/151 [00:39<00:00,  3.82it/s]\n"
          ]
        },
        {
          "output_type": "stream",
          "name": "stdout",
          "text": [
            "0.618774614882785\n"
          ]
        },
        {
          "output_type": "stream",
          "name": "stderr",
          "text": [
            "Eval Epoch 23/50: 100%|██████████| 19/19 [00:01<00:00, 10.66it/s]\n"
          ]
        },
        {
          "output_type": "stream",
          "name": "stdout",
          "text": [
            "1.7174852176716453\n"
          ]
        },
        {
          "output_type": "stream",
          "name": "stderr",
          "text": [
            "Epoch 24/50: 100%|██████████| 151/151 [00:39<00:00,  3.82it/s]\n"
          ]
        },
        {
          "output_type": "stream",
          "name": "stdout",
          "text": [
            "0.6037222599943742\n"
          ]
        },
        {
          "output_type": "stream",
          "name": "stderr",
          "text": [
            "Eval Epoch 24/50: 100%|██████████| 19/19 [00:01<00:00, 10.79it/s]\n"
          ]
        },
        {
          "output_type": "stream",
          "name": "stdout",
          "text": [
            "1.2250729407134808\n"
          ]
        },
        {
          "output_type": "stream",
          "name": "stderr",
          "text": [
            "Epoch 25/50: 100%|██████████| 151/151 [00:39<00:00,  3.82it/s]\n"
          ]
        },
        {
          "output_type": "stream",
          "name": "stdout",
          "text": [
            "0.6143224017312195\n"
          ]
        },
        {
          "output_type": "stream",
          "name": "stderr",
          "text": [
            "Eval Epoch 25/50: 100%|██████████| 19/19 [00:01<00:00, 10.78it/s]\n"
          ]
        },
        {
          "output_type": "stream",
          "name": "stdout",
          "text": [
            "1.2700371977530027\n"
          ]
        },
        {
          "output_type": "stream",
          "name": "stderr",
          "text": [
            "Epoch 26/50: 100%|██████████| 151/151 [00:39<00:00,  3.83it/s]\n"
          ]
        },
        {
          "output_type": "stream",
          "name": "stdout",
          "text": [
            "0.6328072905145734\n"
          ]
        },
        {
          "output_type": "stream",
          "name": "stderr",
          "text": [
            "Eval Epoch 26/50: 100%|██████████| 19/19 [00:01<00:00, 10.62it/s]\n"
          ]
        },
        {
          "output_type": "stream",
          "name": "stdout",
          "text": [
            "1.3640510784952264\n"
          ]
        },
        {
          "output_type": "stream",
          "name": "stderr",
          "text": [
            "Epoch 27/50: 100%|██████████| 151/151 [00:39<00:00,  3.82it/s]\n"
          ]
        },
        {
          "output_type": "stream",
          "name": "stdout",
          "text": [
            "0.628317159434028\n"
          ]
        },
        {
          "output_type": "stream",
          "name": "stderr",
          "text": [
            "Eval Epoch 27/50: 100%|██████████| 19/19 [00:01<00:00, 10.65it/s]\n"
          ]
        },
        {
          "output_type": "stream",
          "name": "stdout",
          "text": [
            "2.402031685176649\n"
          ]
        },
        {
          "output_type": "stream",
          "name": "stderr",
          "text": [
            "Epoch 28/50: 100%|██████████| 151/151 [00:39<00:00,  3.82it/s]\n"
          ]
        },
        {
          "output_type": "stream",
          "name": "stdout",
          "text": [
            "0.6228358674523057\n"
          ]
        },
        {
          "output_type": "stream",
          "name": "stderr",
          "text": [
            "Eval Epoch 28/50: 100%|██████████| 19/19 [00:01<00:00, 10.82it/s]\n"
          ]
        },
        {
          "output_type": "stream",
          "name": "stdout",
          "text": [
            "1.3751189755766016\n"
          ]
        },
        {
          "output_type": "stream",
          "name": "stderr",
          "text": [
            "Epoch 29/50: 100%|██████████| 151/151 [00:39<00:00,  3.83it/s]\n"
          ]
        },
        {
          "output_type": "stream",
          "name": "stdout",
          "text": [
            "0.5790922005247596\n"
          ]
        },
        {
          "output_type": "stream",
          "name": "stderr",
          "text": [
            "Eval Epoch 29/50: 100%|██████████| 19/19 [00:01<00:00, 10.76it/s]\n"
          ]
        },
        {
          "output_type": "stream",
          "name": "stdout",
          "text": [
            "1.2948021371113627\n"
          ]
        },
        {
          "output_type": "stream",
          "name": "stderr",
          "text": [
            "Epoch 30/50: 100%|██████████| 151/151 [00:39<00:00,  3.83it/s]\n"
          ]
        },
        {
          "output_type": "stream",
          "name": "stdout",
          "text": [
            "0.5751660650731713\n"
          ]
        },
        {
          "output_type": "stream",
          "name": "stderr",
          "text": [
            "Eval Epoch 30/50: 100%|██████████| 19/19 [00:01<00:00, 10.74it/s]\n"
          ]
        },
        {
          "output_type": "stream",
          "name": "stdout",
          "text": [
            "1.3175760178189528\n"
          ]
        },
        {
          "output_type": "stream",
          "name": "stderr",
          "text": [
            "Epoch 31/50:  29%|██▉       | 44/151 [00:11<00:28,  3.72it/s]\n"
          ]
        },
        {
          "output_type": "error",
          "ename": "KeyboardInterrupt",
          "evalue": "ignored",
          "traceback": [
            "\u001b[0;31m---------------------------------------------------------------------------\u001b[0m",
            "\u001b[0;31mKeyboardInterrupt\u001b[0m                         Traceback (most recent call last)",
            "\u001b[0;32m<ipython-input-11-2967f2f7508c>\u001b[0m in \u001b[0;36m<cell line: 2>\u001b[0;34m()\u001b[0m\n\u001b[1;32m     37\u001b[0m         \u001b[0moptimizer\u001b[0m\u001b[0;34m.\u001b[0m\u001b[0mstep\u001b[0m\u001b[0;34m(\u001b[0m\u001b[0;34m)\u001b[0m\u001b[0;34m\u001b[0m\u001b[0;34m\u001b[0m\u001b[0m\n\u001b[1;32m     38\u001b[0m \u001b[0;34m\u001b[0m\u001b[0m\n\u001b[0;32m---> 39\u001b[0;31m         \u001b[0mloss\u001b[0m\u001b[0;34m.\u001b[0m\u001b[0mcpu\u001b[0m\u001b[0;34m(\u001b[0m\u001b[0;34m)\u001b[0m\u001b[0;34m\u001b[0m\u001b[0;34m\u001b[0m\u001b[0m\n\u001b[0m\u001b[1;32m     40\u001b[0m         \u001b[0minputs\u001b[0m\u001b[0;34m.\u001b[0m\u001b[0mcpu\u001b[0m\u001b[0;34m(\u001b[0m\u001b[0;34m)\u001b[0m\u001b[0;34m\u001b[0m\u001b[0;34m\u001b[0m\u001b[0m\n\u001b[1;32m     41\u001b[0m         \u001b[0mtargets\u001b[0m\u001b[0;34m.\u001b[0m\u001b[0mcpu\u001b[0m\u001b[0;34m(\u001b[0m\u001b[0;34m)\u001b[0m\u001b[0;34m\u001b[0m\u001b[0;34m\u001b[0m\u001b[0m\n",
            "\u001b[0;31mKeyboardInterrupt\u001b[0m: "
          ]
        }
      ],
      "source": [
        "\n",
        "# Fine-tune the model on your own regression problem\n",
        "for epoch in range(num_epochs):  # Number of epochs\n",
        "\n",
        "    # loss for each epoch\n",
        "    epoch_loss = 0\n",
        "    epoch_valid_loss = 0\n",
        "\n",
        "    model.train()\n",
        "\n",
        "    # Wrap the dataloader loop with tqdm for a progress bar\n",
        "    for i in tqdm(range(train_folder_data.__len__()), desc=f\"Epoch {epoch + 1}/{num_epochs}\"):\n",
        "        # Get input and target from the batch\n",
        "        inputs, targets = train_folder_data.__getitem__(i)\n",
        "\n",
        "        # Convert targets to Float data type and add an extra dimension\n",
        "        targets = targets.float().unsqueeze(1)\n",
        "\n",
        "        # Move input and target tensors to the GPU\n",
        "        inputs, targets = inputs.to(device), targets.to(device)\n",
        "\n",
        "        # Forward pass\n",
        "        outputs = model(inputs)\n",
        "\n",
        "        # Calculate the loss\n",
        "        loss = loss_function(outputs, targets)\n",
        "\n",
        "        loss_values.append(loss.item())\n",
        "        epoch_loss += loss.item()\n",
        "\n",
        "        # Backward pass\n",
        "        optimizer.zero_grad()\n",
        "        loss.backward()\n",
        "\n",
        "        # inputs, targets = inputs.cpu(), targets.cpu()\n",
        "\n",
        "        # Update the model parameters\n",
        "        optimizer.step()\n",
        "\n",
        "        loss.cpu()\n",
        "        inputs.cpu()\n",
        "        targets.cpu()\n",
        "        outputs.cpu()\n",
        "        del loss\n",
        "        del inputs\n",
        "        del targets\n",
        "        del outputs\n",
        "        torch.cuda.empty_cache()\n",
        "\n",
        "    print(epoch_loss / train_folder_data.__len__())\n",
        "    overall_epoch_loss_train.append(epoch_loss / train_folder_data.__len__())\n",
        "\n",
        "    del epoch_loss\n",
        "\n",
        "    model.eval()\n",
        "\n",
        "    # Iterate over the dataloader\n",
        "    for i in tqdm(range(valid_folder_data.__len__()), desc=f\"Eval Epoch {epoch + 1}/{num_epochs}\"):\n",
        "        # Get the input data and move it to the GPU\n",
        "        inputs, targets = valid_folder_data.__getitem__(i)\n",
        "        targets = targets.float().unsqueeze(1)\n",
        "\n",
        "        inputs, targets = inputs.to(device), targets.to(device)\n",
        "\n",
        "        # Pass the input data through the model and get the predicted output\n",
        "        outputs = model(inputs)\n",
        "\n",
        "        loss = loss_function(outputs, targets)\n",
        "\n",
        "        valid_loss.append(loss.item())\n",
        "        epoch_valid_loss += loss.item()\n",
        "\n",
        "        # inputs, targets = inputs.cpu(), targets.cpu()\n",
        "\n",
        "        loss.cpu()\n",
        "        inputs.cpu()\n",
        "        targets.cpu()\n",
        "        outputs.cpu()\n",
        "        del loss\n",
        "        del inputs\n",
        "        del targets\n",
        "        del outputs\n",
        "\n",
        "        torch.cuda.empty_cache()\n",
        "\n",
        "    print(epoch_valid_loss / valid_folder_data.__len__())\n",
        "    overall_epoch_loss_valid.append(epoch_valid_loss / valid_folder_data.__len__())\n",
        "\n",
        "    del epoch_valid_loss\n",
        "\n",
        "# Plot the training loss curve\n",
        "plt.figure()\n",
        "plt.plot(np.linspace(1, len(loss_values), len(loss_values)), np.sqrt(loss_values))\n",
        "plt.plot(np.linspace(1, len(loss_values), len(valid_loss)), np.sqrt(valid_loss))\n",
        "plt.xlabel('Batch')\n",
        "plt.ylabel('Loss')\n",
        "plt.ylim(0, 5)\n",
        "plt.title('Training Loss Curve')\n",
        "\n",
        "plt.legend(['Training loss', 'Validation loss'])\n",
        "\n",
        "plt.show()\n",
        "\n",
        "# Plot the training loss curve\n",
        "plt.figure()\n",
        "plt.plot(np.sqrt(overall_epoch_loss_train))\n",
        "plt.plot(np.sqrt(overall_epoch_loss_valid))\n",
        "plt.xlabel('Epoch')\n",
        "plt.ylabel('Loss')\n",
        "plt.ylim(0, 5)\n",
        "plt.title('Training Loss Curve')\n",
        "\n",
        "plt.legend(['Training loss', 'Validation loss'])\n",
        "\n",
        "plt.show()\n"
      ]
    },
    {
      "cell_type": "code",
      "execution_count": null,
      "metadata": {
        "colab": {
          "base_uri": "https://localhost:8080/",
          "height": 489
        },
        "id": "jOhx_vBrCbDU",
        "outputId": "50457ff6-f6e4-476c-9648-faabd06a359e"
      },
      "outputs": [
        {
          "output_type": "execute_result",
          "data": {
            "text/plain": [
              "<function matplotlib.pyplot.show(close=None, block=None)>"
            ]
          },
          "metadata": {},
          "execution_count": 12
        },
        {
          "output_type": "display_data",
          "data": {
            "text/plain": [
              "<Figure size 640x480 with 1 Axes>"
            ],
            "image/png": "[encoded data removed]"
          },
          "metadata": {}
        }
      ],
      "source": [
        "# Plot the training loss curve\n",
        "plt.figure()\n",
        "plt.plot((overall_epoch_loss_train))\n",
        "plt.plot((overall_epoch_loss_valid))\n",
        "plt.xlabel('Epoch')\n",
        "plt.ylabel('Loss')\n",
        "plt.ylim(0, 5)\n",
        "plt.title('Training Loss Curve')\n",
        "\n",
        "plt.legend(['Training loss', 'Validation loss'])\n",
        "\n",
        "plt.show\n"
      ]
    },
    {
      "cell_type": "code",
      "execution_count": null,
      "metadata": {
        "colab": {
          "base_uri": "https://localhost:8080/",
          "height": 489
        },
        "id": "ne7W-xT1CfZP",
        "outputId": "56f09ed6-55a6-44ed-8b5a-f1fc544a3ae9"
      },
      "outputs": [
        {
          "output_type": "execute_result",
          "data": {
            "text/plain": [
              "<function matplotlib.pyplot.show(close=None, block=None)>"
            ]
          },
          "metadata": {},
          "execution_count": 6
        },
        {
          "output_type": "display_data",
          "data": {
            "text/plain": [
              "<Figure size 640x480 with 1 Axes>"
            ],
            "image/png": "[encoded data removed]"
          },
          "metadata": {}
        }
      ],
      "source": [
        "# Plot the training loss curve\n",
        "plt.plot(np.linspace(1, len(loss_values), len(loss_values)), np.sqrt(loss_values))\n",
        "plt.plot(np.linspace(1, len(loss_values), len(valid_loss)), np.sqrt(valid_loss))\n",
        "plt.xlabel('Batch')\n",
        "plt.ylabel('Loss')\n",
        "plt.ylim(0, 2)\n",
        "plt.title('Training Loss Curve')\n",
        "\n",
        "plt.legend(['Training loss', 'Validation loss'])\n",
        "\n",
        "plt.show"
      ]
    },
    {
      "cell_type": "code",
      "execution_count": null,
      "metadata": {
        "id": "fWKbBd_ziLDh"
      },
      "outputs": [],
      "source": [
        "for i, param in enumerate(model.parameters()):\n",
        "    print(i, param.size())"
      ]
    },
    {
      "cell_type": "code",
      "source": [
        "model.eval()\n",
        "\n",
        "test_loss = 0\n",
        "\n",
        "# Iterate over the dataloader\n",
        "for i in tqdm(range(test_folder_data.__len__())):\n",
        "    # Get the input data and move it to the GPU\n",
        "    inputs, targets = test_folder_data.__getitem__(i)\n",
        "    targets = targets.float().unsqueeze(1)\n",
        "\n",
        "    inputs, targets = inputs.to(device), targets.to(device)\n",
        "\n",
        "    # Pass the input data through the model and get the predicted output\n",
        "    outputs = model(inputs)\n",
        "\n",
        "    loss = loss_function(outputs, targets)\n",
        "\n",
        "    test_loss += loss.item()\n",
        "\n",
        "    # inputs, targets = inputs.cpu(), targets.cpu()\n",
        "\n",
        "    loss.cpu()\n",
        "    inputs.cpu()\n",
        "    targets.cpu()\n",
        "    outputs.cpu()\n",
        "    del loss\n",
        "    del inputs\n",
        "    del targets\n",
        "    del outputs\n",
        "\n",
        "    torch.cuda.empty_cache()\n",
        "\n",
        "print(test_loss / test_folder_data.__len__())\n",
        "\n"
      ],
      "metadata": {
        "colab": {
          "base_uri": "https://localhost:8080/"
        },
        "id": "53tvBWEz1dy4",
        "outputId": "2a5d8f55-f7a9-4228-8e3f-80f3e4a70210"
      },
      "execution_count": null,
      "outputs": [
        {
          "output_type": "stream",
          "name": "stderr",
          "text": [
            "100%|██████████| 19/19 [00:24<00:00,  1.31s/it]"
          ]
        },
        {
          "output_type": "stream",
          "name": "stdout",
          "text": [
            "0.9998356856797871\n"
          ]
        },
        {
          "output_type": "stream",
          "name": "stderr",
          "text": [
            "\n"
          ]
        }
      ]
    },
    {
      "cell_type": "code",
      "source": [
        "torch.save(model.state_dict(), \"/content/drive/MyDrive/test-validation-train/CNN.pt\")"
      ],
      "metadata": {
        "id": "CEklEkzcsSej"
      },
      "execution_count": null,
      "outputs": []
    }
  ],
  "metadata": {
    "accelerator": "GPU",
    "colab": {
      "provenance": []
    },
    "gpuClass": "standard",
    "kernelspec": {
      "display_name": "Python 3",
      "name": "python3"
    },
    "language_info": {
      "name": "python"
    }
  },
  "nbformat": 4,
  "nbformat_minor": 0
}